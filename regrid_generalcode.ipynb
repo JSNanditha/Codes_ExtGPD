{
 "cells": [
  {
   "cell_type": "code",
   "execution_count": 2,
   "id": "d2e9101e",
   "metadata": {},
   "outputs": [],
   "source": [
    "import numpy as np\n",
    "import xarray as xr\n",
    "import netCDF4 as nc\n",
    "import glob\n",
    "import datetime"
   ]
  },
  {
   "cell_type": "code",
   "execution_count": null,
   "id": "08c9d1b7",
   "metadata": {},
   "outputs": [],
   "source": [
    "# regridding GCM data to 1 degree resolution\n",
    "# loading ACCESS-CM2\n",
    "# merging the data\n",
    "scen = [\"ssp126\",\"ssp245\",\"ssp370\",\"ssp585\"]\n",
    "for s in range(0,len(scen)):\n",
    "    path1 = \"Z:/CMIP6/ACCESS-CM2/\"+scen[s]+\"/pr/pr_day_ACCESS-CM2_\"+scen[s]+\"_r1i1p1f1_gn_20150101-20641231.nc\"\n",
    "    path2 = \"Z:/CMIP6/ACCESS-CM2/\"+scen[s]+\"/pr/pr_day_ACCESS-CM2_\"+scen[s]+\"_r1i1p1f1_gn_20650101-21001231.nc\"\n",
    "    comb = xr.open_dataset(path1)\n",
    "# creating a new xarray for storing the unit edited precipitation in mm \n",
    "# multiplying by 24*3600 \n",
    "#pr.sel(time='1960-06-15')\n",
    "    time = comb.time\n",
    "    lat = comb.lat\n",
    "    lon = comb.lon\n",
    "    pr2 = comb.pr*86400 # unit conversion if required\n",
    "# new xarray\n",
    "    edited = xr.DataArray(pr2, dims = ['time','lat','lon'], coords={'time':time,'lat':lat,'lon':lon,'pr':pr2})\n",
    "\n",
    "# subsetting the xarray\n",
    "#subset = edited.sel(time=slice('2031-01-01', '2064-12-31'), lon=slice(229,307), lat=slice(18, 52))\n",
    "    subset = edited.sel(time=slice('2031-01-01', '2064-12-31'), lon=slice(229,307), lat=slice(18, 52))\n",
    "# regrid the data to 1 degree resolution\n",
    "# for any required resolution, create a mesh of the required resolution\n",
    "# remap the nc files to 1 degree resolution using linear interpolation\n",
    "    regrid_lat = np.arange(19.5,50.5,1)\n",
    "    regrid_lon = np.arange(229.5,305.5,1)\n",
    "# regrid datasets\n",
    "    gcm_regrid =  subset.interp(lat=regrid_lat,lon=regrid_lon,method='linear')\n",
    "# edit the path with complete file name\n",
    "    path = 'H:/nanditha/CMIP6_decadal/ERA5-LAND/clipped/tp_mm_'+str(y)+'_region'+str(r)+'.nc'\n",
    "# saving as nc files\n",
    "    gcm_regrid.to_netcdf(path)\n",
    "# writing the regridded data as separate text files for each grid\n",
    "    for i in range(0,len(gcm_regrid.lat)):\n",
    "        \n",
    "        for j in range(0,len(gcm_regrid.lon)):\n",
    "        # saving the files\n",
    "        # one text file for each lat and lon\n",
    "            np.savetxt('H:/nanditha/GCM/ACCESS-CM2/'+scen[s]+'/near/'+'precp_'+str(gcm_regrid.lat[i].to_numpy())+'_'+str(gcm_regrid.lon[j].to_numpy())+'.txt',gcm_regrid.pr[:,i,j].to_numpy(),fmt ='%.5f')\n",
    "    comb.close()\n",
    "    edited.close()\n",
    "    subset.close()\n",
    "    gcm_regrid.close()"
   ]
  }
 ],
 "metadata": {
  "kernelspec": {
   "display_name": "Python 3 (ipykernel)",
   "language": "python",
   "name": "python3"
  },
  "language_info": {
   "codemirror_mode": {
    "name": "ipython",
    "version": 3
   },
   "file_extension": ".py",
   "mimetype": "text/x-python",
   "name": "python",
   "nbconvert_exporter": "python",
   "pygments_lexer": "ipython3",
   "version": "3.10.9"
  }
 },
 "nbformat": 4,
 "nbformat_minor": 5
}
